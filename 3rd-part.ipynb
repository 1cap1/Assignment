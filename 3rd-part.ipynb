{
  "nbformat": 4,
  "nbformat_minor": 0,
  "metadata": {
    "colab": {
      "provenance": [],
      "gpuType": "T4"
    },
    "kernelspec": {
      "name": "python3",
      "display_name": "Python 3"
    },
    "language_info": {
      "name": "python"
    },
    "accelerator": "GPU"
  },
  "cells": [
    {
      "cell_type": "code",
      "source": [
        "#water jug"
      ],
      "metadata": {
        "id": "9LYJ-4HJICnJ"
      },
      "execution_count": null,
      "outputs": []
    },
    {
      "cell_type": "code",
      "execution_count": null,
      "metadata": {
        "colab": {
          "base_uri": "https://localhost:8080/"
        },
        "id": "m9Iawd8IulaM",
        "outputId": "bddd46c8-e6e4-491a-d6cc-46cf47ae327a"
      },
      "outputs": [
        {
          "output_type": "stream",
          "name": "stdout",
          "text": [
            "Solution:\n",
            "(0, 0)\n",
            "(0, 3)\n",
            "(3, 0)\n",
            "(3, 3)\n",
            "(4, 2)\n",
            "(0, 2)\n",
            "(2, 0)\n"
          ]
        }
      ],
      "source": [
        "from heapq import heappush, heappop\n",
        "from collections import deque\n",
        "\n",
        "def pour(state, jug1, jug2):\n",
        "    \"\"\"Simulate pouring water from one jug to another.\"\"\"\n",
        "    amt = min(state[jug1], jug_caps[jug2] - state[jug2])\n",
        "    new_state = list(state)\n",
        "    new_state[jug1] -= amt\n",
        "    new_state[jug2] += amt\n",
        "    return tuple(new_state)\n",
        "\n",
        "def get_successors(state):\n",
        "    \"\"\"Generate all possible successor states from the current state.\"\"\"\n",
        "    successors = []\n",
        "\n",
        "    # Pour water between jugs\n",
        "    for jug1, jug2 in [(0, 1), (1, 0)]:\n",
        "        new_state = pour(state, jug1, jug2)\n",
        "        if new_state != state:\n",
        "            successors.append(new_state)\n",
        "\n",
        "    # Fill each jug to its capacity\n",
        "    for jug in [0, 1]:\n",
        "        new_state = list(state)\n",
        "        new_state[jug] = jug_caps[jug]\n",
        "        successors.append(tuple(new_state))\n",
        "\n",
        "    # Empty each jug\n",
        "    for jug in [0, 1]:\n",
        "        new_state = list(state)\n",
        "        new_state[jug] = 0\n",
        "        successors.append(tuple(new_state))\n",
        "\n",
        "    return successors\n",
        "\n",
        "def heuristic(state, goal):\n",
        "    \"\"\"Heuristic function: Manhattan distance between current and goal states.\"\"\"\n",
        "    return sum(abs(state[i] - goal[i]) for i in range(len(state)))\n",
        "\n",
        "def a_star(start, goal):\n",
        "    \"\"\"A* algorithm to find the shortest path to the goal state.\"\"\"\n",
        "    open_list = []  # Priority queue (min-heap)\n",
        "    heappush(open_list, (0 + heuristic(start, goal), 0, start))  # (f, g, state)\n",
        "\n",
        "    closed_list = set()  # Set of visited states\n",
        "    parent = {start: None}  # To reconstruct the path\n",
        "\n",
        "    while open_list:\n",
        "        _, g, curr_state = heappop(open_list)  # Get state with lowest f\n",
        "\n",
        "        if curr_state == goal:\n",
        "            # Reconstruct the path\n",
        "            path = deque()\n",
        "            while curr_state is not None:\n",
        "                path.appendleft(curr_state)\n",
        "                curr_state = parent[curr_state]\n",
        "            return list(path)\n",
        "\n",
        "        closed_list.add(curr_state)\n",
        "\n",
        "        for succ_state in get_successors(curr_state):\n",
        "            if succ_state not in closed_list:\n",
        "                new_g = g + 1  # Increment path cost\n",
        "                f = new_g + heuristic(succ_state, goal)\n",
        "                heappush(open_list, (f, new_g, succ_state))\n",
        "                parent[succ_state] = curr_state\n",
        "\n",
        "    return None  # No solution found\n",
        "\n",
        "# Problem definition\n",
        "jug_caps = (4, 3)  # Capacities of the jugs\n",
        "start_state = (0, 0)  # Starting state (both jugs empty)\n",
        "goal_state = (2, 0)  # Goal state\n",
        "\n",
        "# Solve the problem\n",
        "solution = a_star(start_state, goal_state)\n",
        "if solution:\n",
        "    print(\"Solution:\")\n",
        "    for state in solution:\n",
        "        print(state)\n",
        "else:\n",
        "    print(\"No solution exists.\")\n"
      ]
    },
    {
      "cell_type": "code",
      "source": [
        "# 8-puzzle"
      ],
      "metadata": {
        "id": "pu-q9mbOH_bX"
      },
      "execution_count": null,
      "outputs": []
    },
    {
      "cell_type": "code",
      "source": [
        "import heapq\n",
        "\n",
        "def manhattan_distance(state, goal):\n",
        "    distance = 0\n",
        "    for i in range(1, 9):\n",
        "        idx_s = state.index(i)\n",
        "        idx_g = goal.index(i)\n",
        "        distance += abs(idx_s // 3 - idx_g // 3) + abs(idx_s % 3 - idx_g % 3)\n",
        "    return distance\n",
        "\n",
        "def get_neighbors(state):\n",
        "    neighbors = []\n",
        "    blank_index = state.index(0)\n",
        "    row, col = divmod(blank_index, 3)\n",
        "    moves = [(-1, 0), (1, 0), (0, -1), (0, 1)]\n",
        "    for move in moves:\n",
        "        new_row, new_col = row + move[0], col + move[1]\n",
        "        if 0 <= new_row < 3 and 0 <= new_col < 3:\n",
        "            new_blank_index = new_row * 3 + new_col\n",
        "            new_state = list(state)\n",
        "            new_state[blank_index], new_state[new_blank_index] = new_state[new_blank_index], new_state[blank_index]\n",
        "            neighbors.append(tuple(new_state))\n",
        "    return neighbors\n",
        "\n",
        "def a_star_search(start, goal):\n",
        "    frontier = []\n",
        "    heapq.heappush(frontier, (0 + manhattan_distance(start, goal), 0, start, []))\n",
        "    explored = set()\n",
        "    while frontier:\n",
        "        f, g, current_state, path = heapq.heappop(frontier)\n",
        "        if current_state == goal:\n",
        "            return path + [current_state]\n",
        "        explored.add(current_state)\n",
        "        for neighbor in get_neighbors(current_state):\n",
        "            if neighbor not in explored:\n",
        "                new_g = g + 1\n",
        "                new_f = new_g + manhattan_distance(neighbor, goal)\n",
        "                heapq.heappush(frontier, (new_f, new_g, neighbor, path + [current_state]))\n",
        "    return None\n",
        "\n",
        "start_state = (1, 2, 3, 4, 0, 5, 6, 7, 8)\n",
        "goal_state = (1, 2, 3, 4, 5, 6, 7, 8, 0)\n",
        "\n",
        "solution = a_star_search(start_state, goal_state)\n",
        "\n",
        "if solution:\n",
        "    print(\"Solution found in {} steps!\".format(len(solution) - 1))\n",
        "    for step in solution:\n",
        "        print(step)\n",
        "else:\n",
        "    print(\"No solution found.\")\n"
      ],
      "metadata": {
        "colab": {
          "base_uri": "https://localhost:8080/"
        },
        "id": "xqzfFshDumU_",
        "outputId": "292870aa-94c0-4b5f-99e7-4bb015127287"
      },
      "execution_count": null,
      "outputs": [
        {
          "output_type": "stream",
          "name": "stdout",
          "text": [
            "Solution found in 14 steps!\n",
            "(1, 2, 3, 4, 0, 5, 6, 7, 8)\n",
            "(1, 2, 3, 4, 5, 0, 6, 7, 8)\n",
            "(1, 2, 3, 4, 5, 8, 6, 7, 0)\n",
            "(1, 2, 3, 4, 5, 8, 6, 0, 7)\n",
            "(1, 2, 3, 4, 5, 8, 0, 6, 7)\n",
            "(1, 2, 3, 0, 5, 8, 4, 6, 7)\n",
            "(1, 2, 3, 5, 0, 8, 4, 6, 7)\n",
            "(1, 2, 3, 5, 6, 8, 4, 0, 7)\n",
            "(1, 2, 3, 5, 6, 8, 4, 7, 0)\n",
            "(1, 2, 3, 5, 6, 0, 4, 7, 8)\n",
            "(1, 2, 3, 5, 0, 6, 4, 7, 8)\n",
            "(1, 2, 3, 0, 5, 6, 4, 7, 8)\n",
            "(1, 2, 3, 4, 5, 6, 0, 7, 8)\n",
            "(1, 2, 3, 4, 5, 6, 7, 0, 8)\n",
            "(1, 2, 3, 4, 5, 6, 7, 8, 0)\n"
          ]
        }
      ]
    },
    {
      "cell_type": "code",
      "source": [
        "# map-coloring"
      ],
      "metadata": {
        "id": "cLJiW-OrIBEt"
      },
      "execution_count": null,
      "outputs": []
    },
    {
      "cell_type": "code",
      "source": [
        "def is_valid(map, region, color, color_assignment):\n",
        "    for neighbor in map[region]:\n",
        "        if neighbor in color_assignment and color_assignment[neighbor] == color:\n",
        "            return False\n",
        "    return True\n",
        "\n",
        "\n",
        "def solve_map_coloring(map, regions, colors, color_assignment={}):\n",
        "    if len(color_assignment) == len(regions):\n",
        "        return color_assignment\n",
        "\n",
        "    current_region = [r for r in regions if r not in color_assignment][0]\n",
        "\n",
        "    for color in colors:\n",
        "        if is_valid(map, current_region, color, color_assignment):\n",
        "            color_assignment[current_region] = color\n",
        "            result = solve_map_coloring(map, regions, colors, color_assignment)\n",
        "            if result is not None:\n",
        "                return result\n",
        "            del color_assignment[current_region]\n",
        "\n",
        "    return None\n",
        "\n",
        "\n",
        "if __name__ == \"__main__\":\n",
        "    map = {\n",
        "        \"WA\": [\"NT\", \"SA\"],\n",
        "        \"NT\": [\"WA\", \"SA\", \"Q\"],\n",
        "        \"SA\": [\"WA\", \"NT\", \"Q\", \"NSW\", \"V\"],\n",
        "        \"Q\": [\"NT\", \"SA\", \"NSW\"],\n",
        "        \"NSW\": [\"Q\", \"SA\", \"V\"],\n",
        "        \"V\": [\"SA\", \"NSW\"],\n",
        "    }\n",
        "    regions = list(map.keys())\n",
        "    colors = [\"Red\", \"Green\", \"Blue\"]\n",
        "\n",
        "    coloring = solve_map_coloring(map, regions, colors)\n",
        "\n",
        "    if coloring:\n",
        "        print(\"Valid coloring:\")\n",
        "        for region, color in coloring.items():\n",
        "            print(f\"{region}: {color}\")\n",
        "    else:\n",
        "        print(\"No valid coloring found.\")\n"
      ],
      "metadata": {
        "id": "4JEz7JjbvAaR",
        "colab": {
          "base_uri": "https://localhost:8080/"
        },
        "outputId": "4cdfa16c-0594-49b9-9a84-49ffcb3ecbe3"
      },
      "execution_count": null,
      "outputs": [
        {
          "output_type": "stream",
          "name": "stdout",
          "text": [
            "Valid coloring:\n",
            "WA: Red\n",
            "NT: Green\n",
            "SA: Blue\n",
            "Q: Red\n",
            "NSW: Green\n",
            "V: Red\n"
          ]
        }
      ]
    },
    {
      "cell_type": "code",
      "source": [
        "def is_valid_coloring(map,color,colorassignment,region):\n",
        "  for i in map[region]:\n",
        "    if i in colorassignment and colorassignment[i]==color:\n",
        "      return False\n",
        "  return True\n"
      ],
      "metadata": {
        "id": "-j3FAMhgYk45"
      },
      "execution_count": null,
      "outputs": []
    },
    {
      "cell_type": "code",
      "source": [],
      "metadata": {
        "id": "Ox17bwmVH9yl"
      },
      "execution_count": null,
      "outputs": []
    }
  ]
}